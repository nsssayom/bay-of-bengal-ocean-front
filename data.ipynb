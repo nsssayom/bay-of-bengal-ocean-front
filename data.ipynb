{
 "cells": [
  {
   "cell_type": "code",
   "execution_count": 11,
   "metadata": {},
   "outputs": [
    {
     "ename": "KeyboardInterrupt",
     "evalue": "",
     "output_type": "error",
     "traceback": [
      "\u001b[0;31m---------------------------------------------------------------------------\u001b[0m",
      "\u001b[0;31mKeyboardInterrupt\u001b[0m                         Traceback (most recent call last)",
      "Cell \u001b[0;32mIn[11], line 22\u001b[0m\n\u001b[1;32m     19\u001b[0m mask \u001b[39m=\u001b[39m mask\u001b[39m.\u001b[39mconvert(\u001b[39m'\u001b[39m\u001b[39mRGBA\u001b[39m\u001b[39m'\u001b[39m)\n\u001b[1;32m     21\u001b[0m new_mask \u001b[39m=\u001b[39m Image\u001b[39m.\u001b[39mnew(\u001b[39m'\u001b[39m\u001b[39mL\u001b[39m\u001b[39m'\u001b[39m, mask\u001b[39m.\u001b[39msize, \u001b[39m0\u001b[39m)\n\u001b[0;32m---> 22\u001b[0m mask_alpha \u001b[39m=\u001b[39m mask\u001b[39m.\u001b[39;49mgetchannel(\u001b[39m3\u001b[39;49m)\n\u001b[1;32m     24\u001b[0m \u001b[39m# paste the alpha channel of the mask into the new mask image\u001b[39;00m\n\u001b[1;32m     25\u001b[0m new_mask\u001b[39m.\u001b[39mpaste(mask_alpha, (\u001b[39m0\u001b[39m,\u001b[39m0\u001b[39m))\n",
      "File \u001b[0;32m~/Dev/ocean/env/lib/python3.11/site-packages/PIL/Image.py:2510\u001b[0m, in \u001b[0;36mImage.getchannel\u001b[0;34m(self, channel)\u001b[0m\n\u001b[1;32m   2507\u001b[0m         msg \u001b[39m=\u001b[39m \u001b[39mf\u001b[39m\u001b[39m'\u001b[39m\u001b[39mThe image has no channel \u001b[39m\u001b[39m\"\u001b[39m\u001b[39m{\u001b[39;00mchannel\u001b[39m}\u001b[39;00m\u001b[39m\"\u001b[39m\u001b[39m'\u001b[39m\n\u001b[1;32m   2508\u001b[0m         \u001b[39mraise\u001b[39;00m \u001b[39mValueError\u001b[39;00m(msg) \u001b[39mfrom\u001b[39;00m \u001b[39me\u001b[39;00m\n\u001b[0;32m-> 2510\u001b[0m \u001b[39mreturn\u001b[39;00m \u001b[39mself\u001b[39m\u001b[39m.\u001b[39m_new(\u001b[39mself\u001b[39;49m\u001b[39m.\u001b[39;49mim\u001b[39m.\u001b[39;49mgetband(channel))\n",
      "\u001b[0;31mKeyboardInterrupt\u001b[0m: "
     ]
    }
   ],
   "source": [
    "import os\n",
    "import matplotlib.pyplot as plt\n",
    "from PIL import Image\n",
    "\n",
    "# Define paths\n",
    "image_path = './dataset/images'\n",
    "mask_path = './dataset/masks'\n",
    "grey_mask_path = './dataset/grey_masks'\n",
    "\n",
    "# Get all PNG images in the directories\n",
    "image_files = [f for f in os.listdir(image_path) if f.endswith('.png')]\n",
    "mask_files = [f for f in os.listdir(mask_path) if f.endswith('.png')]\n",
    "\n",
    "\n",
    "# iterate through all the mask files\n",
    "for mask_file in mask_files:\n",
    "    # Open the image and convert it to grayscale\n",
    "    mask = Image.open(os.path.join(mask_path, mask_file))\n",
    "    mask = mask.convert('RGBA')\n",
    "\n",
    "    new_mask = Image.new('L', mask.size, 0)\n",
    "    mask_alpha = mask.getchannel(3)\n",
    "\n",
    "    # paste the alpha channel of the mask into the new mask image\n",
    "    new_mask.paste(mask_alpha, (0,0))\n",
    "\n",
    "    # save the new mask image\n",
    "    new_mask.save(os.path.join(grey_mask_path, mask_file))"
   ]
  },
  {
   "cell_type": "code",
   "execution_count": 13,
   "metadata": {},
   "outputs": [
    {
     "name": "stdout",
     "output_type": "stream",
     "text": [
      "1008\n"
     ]
    }
   ],
   "source": [
    "grey_mask_files = [f for f in os.listdir(grey_mask_path) if f.endswith('.png')]\n",
    "print(len(grey_mask_files))\n",
    "\n",
    "grey_binary_path = './dataset/grey_binary_masks'\n",
    "# convert all the images to binary greyscale\n",
    "for grey_mask_file in grey_mask_files:\n",
    "    grey_mask = Image.open(os.path.join(grey_mask_path, grey_mask_file))\n",
    "    grey_mask = grey_mask.convert('L')\n",
    "    grey_mask = grey_mask.point(lambda x: 0 if x < 128 else 255, '1')\n",
    "    grey_mask.save(os.path.join(grey_binary_path, grey_mask_file))"
   ]
  },
  {
   "cell_type": "code",
   "execution_count": 12,
   "metadata": {},
   "outputs": [],
   "source": [
    "grey_binary_path = './dataset/grey_binary_masks'\n",
    "# convert all the images to binary greyscale\n",
    "for grey_mask_file in grey_mask_files:\n",
    "    # print dimensions of the image\n",
    "    grey_mask = Image.open(os.path.join(grey_mask_path, grey_mask_file))\n",
    "    # if the image is not 3000x3000, resize it\n",
    "    if grey_mask.size != (3000, 3000):\n",
    "        grey_mask = grey_mask.resize((3000, 3000))\n",
    "        grey_mask.save(os.path.join(grey_mask_path, grey_mask_file))\n",
    "        "
   ]
  },
  {
   "cell_type": "code",
   "execution_count": 14,
   "metadata": {},
   "outputs": [
    {
     "ename": "",
     "evalue": "",
     "output_type": "error",
     "traceback": [
      "\u001b[1;31mThe Kernel crashed while executing code in the the current cell or a previous cell. Please review the code in the cell(s) to identify a possible cause of the failure. Click <a href='https://aka.ms/vscodeJupyterKernelCrash'>here</a> for more info. View Jupyter <a href='command:jupyter.viewOutput'>log</a> for further details."
     ]
    }
   ],
   "source": [
    "image_path = './dataset/images'\n",
    "mask_path = './dataset/masks'\n",
    "grey_mask_path = './dataset/grey_masks'\n",
    "grey_binary_path = './dataset/grey_binary_masks'\n",
    "\n",
    "downscaled_image_path = './dataset/downscaled/images'\n",
    "downscaled_mask_path = './dataset/downscaled/masks'\n",
    "\n",
    "image_files = [f for f in os.listdir(image_path) if f.endswith('.png')]\n",
    "mask_files = [f for f in os.listdir(grey_binary_path) if f.endswith('.png')]\n",
    "\n",
    "for image_file in image_files:\n",
    "    image = Image.open(os.path.join(image_path, image_file))\n",
    "    image = image.resize((256, 256))\n",
    "    image.save(os.path.join(downscaled_image_path, image_file))\n",
    "\n",
    "for mask_file in mask_files:\n",
    "    mask = Image.open(os.path.join(grey_binary_path, mask_file))\n",
    "    mask = mask.resize((256, 256))\n",
    "    mask.save(os.path.join(downscaled_mask_path, mask_file))"
   ]
  }
 ],
 "metadata": {
  "kernelspec": {
   "display_name": "env",
   "language": "python",
   "name": "python3"
  },
  "language_info": {
   "codemirror_mode": {
    "name": "ipython",
    "version": 3
   },
   "file_extension": ".py",
   "mimetype": "text/x-python",
   "name": "python",
   "nbconvert_exporter": "python",
   "pygments_lexer": "ipython3",
   "version": "3.11.3"
  },
  "orig_nbformat": 4
 },
 "nbformat": 4,
 "nbformat_minor": 2
}
